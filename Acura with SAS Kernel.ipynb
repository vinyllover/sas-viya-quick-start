{
 "cells": [
  {
   "cell_type": "code",
   "execution_count": 1,
   "id": "eee6411d-1974-487a-a5c4-b0e302186c97",
   "metadata": {},
   "outputs": [
    {
     "name": "stdout",
     "output_type": "stream",
     "text": [
      "SAS server started using Context SAS Studio compute context with SESSION_ID=716d3361-09aa-4028-8e7c-97bbca6ec139-ses0000\n",
      "12   ods listing close;ods html5 (id=saspy_internal) options(bitmap_mode='inline') device=svg style=HTMLBlue; ods graphics on /\n",
      "12 ! outputfmt=png;\n",
      "\u001b[38;5;21mNOTE: Writing HTML5(SASPY_INTERNAL) Body file: sashtml.htm\u001b[0m\n",
      "13   \n",
      "14   data acura;\n",
      "15       set sashelp.cars;\n",
      "16       where make='Acura';\n",
      "17   run;\n",
      "\n",
      "\u001b[38;5;21mNOTE: There were 7 observations read from the data set SASHELP.CARS.\n",
      "      WHERE make='Acura';\u001b[0m\n",
      "\u001b[38;5;21mNOTE: The data set WORK.ACURA has 7 observations and 15 variables.\u001b[0m\n",
      "\u001b[38;5;21mNOTE: DATA statement used (Total process time):\n",
      "      real time           0.00 seconds\n",
      "      cpu time            0.00 seconds\n",
      "      \u001b[0m\n",
      "\n",
      "18   \n",
      "19   ods html5 (id=saspy_internal) close;ods listing;\n",
      "20   \n",
      "\n",
      "\n"
     ]
    }
   ],
   "source": [
    "data acura;\n",
    "    set sashelp.cars;\n",
    "    where make='Acura';\n",
    "run;\n"
   ]
  },
  {
   "cell_type": "code",
   "execution_count": null,
   "id": "921601ed-d5e6-490f-9fec-d26ae5d05c6b",
   "metadata": {},
   "outputs": [],
   "source": []
  }
 ],
 "metadata": {
  "kernelspec": {
   "display_name": "SAS",
   "language": "sas",
   "name": "sas"
  },
  "language_info": {
   "codemirror_mode": "sas",
   "file_extension": ".sas",
   "mimetype": "text/x-sas",
   "name": "sas"
  }
 },
 "nbformat": 4,
 "nbformat_minor": 5
}
